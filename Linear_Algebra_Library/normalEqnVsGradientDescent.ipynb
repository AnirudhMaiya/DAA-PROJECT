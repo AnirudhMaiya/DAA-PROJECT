{
 "cells": [
  {
   "cell_type": "code",
   "execution_count": 29,
   "metadata": {},
   "outputs": [
    {
     "name": "stdout",
     "output_type": "stream",
     "text": [
      "Learned Parameters are[[-4.21114886]\n",
      " [ 1.21351168]]\n",
      "\n",
      "\n",
      "Predicted Profit for population with 70,000 is : 42834.329229104376\n"
     ]
    }
   ],
   "source": [
    "#Linear Regression using Gradient Descent\n",
    "import numpy as np\n",
    "import pandas as pd\n",
    "\n",
    "\n",
    "def computeCost(X,y,theta):\n",
    "    m = len(y)\n",
    "    temp = np.dot(X,theta) - y \n",
    "    J = (sum(temp ** 2)) / (2*m)\n",
    "    return J\n",
    "\n",
    "def gradientDescent(X,y,theta,alpha,epochs):\n",
    "    m = len(y)\n",
    "    for i in range(0,epochs):\n",
    "        k = np.transpose(X)\n",
    "        temp = np.dot(X,theta) - y\n",
    "        theta = theta - ((alpha/m) * np.dot(k,temp))\n",
    "    return theta\n",
    "\n",
    "\n",
    "\n",
    "data = pd.read_csv('ex1data1.txt') #read from dataset\n",
    "X = data.iloc[:,0] \n",
    "y = data.iloc[:,1] \n",
    "m = len(y) # number of training examples\n",
    "theta = np.zeros([2,1])\n",
    "X = X[:,np.newaxis]\n",
    "y = y[:,np.newaxis]\n",
    "ones = np.ones((m,1))\n",
    "X = np.hstack((ones, X))\n",
    "J = computeCost(X,y,theta)\n",
    "epochs = 5200\n",
    "alpha = 0.01\n",
    "theta = gradientDescent(X,y,theta,alpha,epochs)\n",
    "print(\"Learned Parameters are\",end = '')\n",
    "print((theta))\n",
    "print(\"\\n\")\n",
    "a = np.array([[1,7]])\n",
    "print(\"Predicted Profit for population with 70,000 is : \",end = '') \n",
    "print(float(np.dot(a,theta)*10000))\n"
   ]
  },
  {
   "cell_type": "code",
   "execution_count": 26,
   "metadata": {},
   "outputs": [
    {
     "name": "stdout",
     "output_type": "stream",
     "text": [
      "Using Normal equations method\n",
      "[[-4.21150401]\n",
      " [ 1.21354725]]\n",
      "Predicted Profit for population with 70,000 is : 42833.267719344105\n"
     ]
    }
   ],
   "source": [
    "#Using Linear Algebra taught in Class\n",
    "data = pd.read_csv('ex1data1.txt') #read from dataset\n",
    "X = data.iloc[:,0] \n",
    "y = data.iloc[:,1] \n",
    "m = len(y) # number of training examples\n",
    "theta = np.zeros([2,1])\n",
    "X = X[:,np.newaxis]\n",
    "y = y[:,np.newaxis]\n",
    "ones = np.ones((m,1))\n",
    "X = np.hstack((ones, X))\n",
    "\n",
    "print(\"Using Normal equations method\")\n",
    "temp = np.transpose(X)\n",
    "theta = np.linalg.inv(np.dot(temp,X))\n",
    "theta = np.dot(theta,temp)\n",
    "theta = np.dot(theta,y)\n",
    "print(theta)\n",
    "a = np.array([[1,7]])\n",
    "print(\"Predicted Profit for population with 70,000 is : \",end = '') \n",
    "print(float(np.dot(a,theta)*10000))\n",
    "\n",
    "#O(n^3) for matrix multiplication"
   ]
  },
  {
   "cell_type": "code",
   "execution_count": 30,
   "metadata": {},
   "outputs": [
    {
     "name": "stdout",
     "output_type": "stream",
     "text": [
      "250\n"
     ]
    }
   ],
   "source": [
    "def karatsuba(x, y):\n",
    "    if len(str(x)) == 1 or len(str(y)) == 1:\n",
    "        return x * y\n",
    "    else:\n",
    "        n = max(len(str(x)), len(str(y)))\n",
    "        nby2 = n // 2\n",
    "        ten_pow_nby2 = 10**nby2\n",
    "        a = x // ten_pow_nby2\n",
    "        b = x % ten_pow_nby2\n",
    "        c = y // ten_pow_nby2\n",
    "        d = y % ten_pow_nby2\n",
    "\n",
    "        ac = karatsuba(a, c)\n",
    "        bd = karatsuba(b, d)\n",
    "        ad_plus_bc = karatsuba(a + b, c + d) - ac - bd\n",
    "        prod = ac * 10 ** (2 * nby2) + (ad_plus_bc * 10 ** nby2) + bd\n",
    "    return prod\n",
    "\n",
    "print(karatsuba(10,25))"
   ]
  },
  {
   "cell_type": "code",
   "execution_count": null,
   "metadata": {},
   "outputs": [],
   "source": []
  },
  {
   "cell_type": "code",
   "execution_count": 101,
   "metadata": {},
   "outputs": [],
   "source": []
  },
  {
   "cell_type": "code",
   "execution_count": null,
   "metadata": {},
   "outputs": [],
   "source": []
  },
  {
   "cell_type": "code",
   "execution_count": null,
   "metadata": {},
   "outputs": [],
   "source": []
  }
 ],
 "metadata": {
  "kernelspec": {
   "display_name": "Python 3",
   "language": "python",
   "name": "python3"
  },
  "language_info": {
   "codemirror_mode": {
    "name": "ipython",
    "version": 3
   },
   "file_extension": ".py",
   "mimetype": "text/x-python",
   "name": "python",
   "nbconvert_exporter": "python",
   "pygments_lexer": "ipython3",
   "version": "3.7.1"
  }
 },
 "nbformat": 4,
 "nbformat_minor": 2
}
