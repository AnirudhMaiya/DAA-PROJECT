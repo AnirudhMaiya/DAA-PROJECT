{
 "cells": [
  {
   "cell_type": "code",
   "execution_count": 2,
   "metadata": {},
   "outputs": [],
   "source": [
    "import numpy as np\n",
    "import math"
   ]
  },
  {
   "cell_type": "code",
   "execution_count": 8,
   "metadata": {},
   "outputs": [
    {
     "name": "stdout",
     "output_type": "stream",
     "text": [
      "Enter vector A: 1 2 3\n",
      "Enter vector B: 4 5 6\n",
      "Enter Angle between two vectors A and B in degrees: 90\n",
      "Dot product of two vectors are:  0.0000000000\n"
     ]
    }
   ],
   "source": [
    "#Dot product if angle is known\n",
    "\n",
    "def dotproduct(A,B,theta):\n",
    "    C = 0\n",
    "    D = 0\n",
    "    for i in range(len(A)):\n",
    "        C = C + (float(A[i]) * float(A[i]))\n",
    "        D = D + (float(B[i]) * float(B[i]))\n",
    "    C = math.sqrt(C)\n",
    "    D = math.sqrt(D)\n",
    "    radian  = (math.pi * theta) / 180\n",
    "    Answer = C * D * math.cos(radian)\n",
    "    return Answer\n",
    "\n",
    "\n",
    "A = input(\"Enter vector A: \").split()\n",
    "B = input(\"Enter vector B: \").split()\n",
    "theta  = float(input(\"Enter Angle between two vectors A and B in degrees: \"))\n",
    "x = dotproduct(A,B,theta)\n",
    "print(\"Dot product of two vectors are:  \",end = '')\n",
    "print(f'{x:.10f}')\n",
    "\n",
    "\n",
    "#Running Time O(length(A))\n",
    "\n",
    "\n"
   ]
  },
  {
   "cell_type": "code",
   "execution_count": 9,
   "metadata": {},
   "outputs": [
    {
     "name": "stdout",
     "output_type": "stream",
     "text": [
      "Enter vector A: 1 2 3 4 5 6\n",
      "Enter vector B: 7 8 9 10 11 12\n",
      "Angle between two vectors(in degrees) is : 15.818795859187912\n"
     ]
    }
   ],
   "source": [
    "#Angle between two vectors\n",
    "def anglebetweenvector(A,B):\n",
    "    C = 0\n",
    "    D = 0\n",
    "    dotproduct = 0\n",
    "    for i in range(len(A)):\n",
    "        dotproduct = dotproduct + (float(A[i]) * float(B[i]))\n",
    "        C = C + (float(A[i]) * float(A[i]))\n",
    "        D = D + (float(B[i]) * float(B[i]))\n",
    "    C = math.sqrt(C)\n",
    "    D = math.sqrt(D)\n",
    "    Theta = dotproduct / (C*D)\n",
    "    Theta = math.acos(Theta)\n",
    "    Degree = (Theta * 180) /math.pi\n",
    "    return Degree\n",
    "   \n",
    "\n",
    "A = input(\"Enter vector A: \").split()\n",
    "B = input(\"Enter vector B: \").split()\n",
    "Degree = anglebetweenvector(A,B)\n",
    "print(\"Angle between two vectors(in degrees) is : \",end = \"\")\n",
    "print(Degree)\n",
    "\n",
    "#Running Time O(length(A))"
   ]
  },
  {
   "cell_type": "code",
   "execution_count": 11,
   "metadata": {},
   "outputs": [
    {
     "name": "stdout",
     "output_type": "stream",
     "text": [
      "Enter vector A: 1 2 3\n",
      "Enter vector B: 4 5 6\n",
      "Dot product is : 32.0\n"
     ]
    }
   ],
   "source": [
    "#dot product using components(unit vectors) i,j,k,l.....\n",
    "\n",
    "def dotcomponents(A,B):\n",
    "    D = 0\n",
    "    for i in range(len(A)):\n",
    "        D = D+ float(A[i]) * float(B[i])\n",
    "    return D\n",
    "\n",
    "A = input(\"Enter vector A: \").split()\n",
    "B = input(\"Enter vector B: \").split()\n",
    "x = dotcomponents(A,B)\n",
    "print(\"Dot product is : \",end  = '')\n",
    "print(x)\n",
    "\n",
    "\n",
    "#Running Time O(length(A))"
   ]
  },
  {
   "cell_type": "code",
   "execution_count": null,
   "metadata": {},
   "outputs": [],
   "source": [
    "#projection of A on B and B on A\n",
    "A = input(\"Enter vector A: \").split()\n",
    "B = input(\"Enter vector B: \").split()\n",
    "\n",
    "def projectAonB(A,B):\n",
    "    dotproduct = dotcomponents(A,B)\n",
    "    D = 0\n",
    "    for i in range(len(A)):\n",
    "        D = D + (float(B[i]) * float(B[i]))\n",
    "    D = math.sqrt(D)\n",
    "    return (dotproduct/D)\n",
    "dotproduct = projectAonB(A,B)\n",
    "print(\"Projection of A on B is : \",end = '')\n",
    "print(dotproduct)\n",
    "\n",
    "\n",
    "\n",
    "#Running Time O(length(A))"
   ]
  },
  {
   "cell_type": "code",
   "execution_count": 65,
   "metadata": {},
   "outputs": [
    {
     "name": "stdout",
     "output_type": "stream",
     "text": [
      "Enter vector A: 2 -3 6\n",
      "Enter vector B: 1 2 2\n",
      "Projection of A on B is : 1.1428571428571428\n"
     ]
    }
   ],
   "source": [
    "#projection of B on A\n",
    "\n",
    "\n",
    "def projectBonA(A,B):\n",
    "    dotproduct = dotcomponents(A,B)\n",
    "    D = 0\n",
    "    for i in range(len(A)):\n",
    "        D = D + (float(A[i]) * float(A[i]))\n",
    "    D = math.sqrt(D)\n",
    "    return (dotproduct/D)\n",
    "\n",
    "\n",
    "A = input(\"Enter vector A: \").split()\n",
    "B = input(\"Enter vector B: \").split()\n",
    "dotproduct = projectBonA(A,B)\n",
    "print(\"Projection of A on B is : \",end = '')\n",
    "print(dotproduct)\n",
    "\n",
    "\n",
    "#Running Time O(length(A))"
   ]
  },
  {
   "cell_type": "code",
   "execution_count": 13,
   "metadata": {},
   "outputs": [
    {
     "name": "stdout",
     "output_type": "stream",
     "text": [
      "Enter vector A: 1 2 3\n",
      "Enter vector B: 4 5 6\n",
      "Enter Angle between two vectors A and B in degrees: 90\n",
      "Cross product of two vectors are:  32.8329103188  along a x b\n"
     ]
    }
   ],
   "source": [
    "#Cross product if angle is known\n",
    "\n",
    "def crossproduct(A,B,theta):\n",
    "    C = 0\n",
    "    D = 0\n",
    "    for i in range(len(A)):\n",
    "        C = C + (float(A[i]) * float(A[i]))\n",
    "        D = D + (float(B[i]) * float(B[i]))\n",
    "    C = math.sqrt(C)\n",
    "    D = math.sqrt(D)\n",
    "    radian  = (math.pi * theta) / 180\n",
    "    Answer = C * D * math.sin(radian)\n",
    "    return Answer\n",
    "\n",
    "\n",
    "A = input(\"Enter vector A: \").split()\n",
    "B = input(\"Enter vector B: \").split()\n",
    "theta  = float(input(\"Enter Angle between two vectors A and B in degrees: \"))\n",
    "x = crossproduct(A,B,theta)\n",
    "print(\"Cross product of two vectors are:  \",end = '')\n",
    "print(f'{x:.10f}',end = '')\n",
    "print(\"  along a x b\")\n",
    "\n",
    "\n",
    "#Running Time O(length(A))\n",
    "\n",
    "\n"
   ]
  },
  {
   "cell_type": "code",
   "execution_count": 14,
   "metadata": {},
   "outputs": [
    {
     "name": "stdout",
     "output_type": "stream",
     "text": [
      "Enter vector A: 1 2 3\n",
      "Enter vector B: 4 5 6\n",
      "The cross product is : [-3.0, -6.0, -3.0]\n"
     ]
    }
   ],
   "source": [
    "#Cross product without angle\n",
    "\n",
    "def crossProduct3(A, B, cross_p3): \n",
    "    cross_p3.append(float(A[1]) * float(B[2]) - float(A[2]) * float(B[1]))\n",
    "    cross_p3.append(float(A[0]) * float(B[2]) - float(A[2]) * float(B[0]))\n",
    "    cross_p3.append(float(A[0]) * float(B[1]) - float(A[1]) * float(B[0]))\n",
    "    return cross_p3\n",
    "\n",
    "def crossProduct2(A, B, cross_p2): \n",
    "    cross_p2.append(float(A[0]) * float(B[1]) - float(A[1]) * float(B[0]))\n",
    "    return cross_p2\n",
    "    \n",
    "A = input(\"Enter vector A: \").split()\n",
    "B = input(\"Enter vector B: \").split()\n",
    "n = len(A)\n",
    "\n",
    "if(n == 3):\n",
    "    cross_p3 = []\n",
    "    x = crossProduct3(A,B,cross_p3)\n",
    "    print(\"The cross product is : \",end = '')\n",
    "    print(x)\n",
    "elif (n == 2):\n",
    "    cross_p2 = []\n",
    "    x = crossProduct2(A,B,cross_p2)\n",
    "    print(\"The cross product is : \",end = '')\n",
    "    print(x)\n",
    "else:\n",
    "    print(\"incompatible dimensions for cross product (dimension must be 2 or 3)\")\n",
    "    \n",
    "#Running Time O(constant)\n"
   ]
  },
  {
   "cell_type": "code",
   "execution_count": 67,
   "metadata": {},
   "outputs": [
    {
     "name": "stdout",
     "output_type": "stream",
     "text": [
      "Enter vector A: 1 2 3\n",
      "Enter vector B: 4 5 6\n",
      "Enter vector C: 7 8 9\n",
      "Vector triple product of a x (bxc) : [-24.  -6.  12.]\n",
      "Vector triple product of (axb) x c) : [ 78.   6. -66.]\n"
     ]
    }
   ],
   "source": [
    "#Vector triple product\n",
    "\n",
    "def vectortripleproduct1(A,B,C):\n",
    "    ac = dotcomponents(A,C)\n",
    "    ab = dotcomponents(A,B)\n",
    "    answer = (ac * np.array(B,dtype = 'float')) - (ab * np.array(C,dtype = 'float'))\n",
    "    return answer\n",
    "\n",
    "def vectortripleproduct2(A,B,C):\n",
    "    ac = dotcomponents(A,C)\n",
    "    bc = dotcomponents(B,C)\n",
    "    answer = (ac * np.array(B,dtype = 'float')) - (bc * np.array(A,dtype = 'float'))\n",
    "    return answer\n",
    "\n",
    "A = input(\"Enter vector A: \").split()\n",
    "B = input(\"Enter vector B: \").split()\n",
    "C = input(\"Enter vector C: \").split()\n",
    "print(\"Vector triple product of a x (bxc) : \",end = '')\n",
    "print(vectortripleproduct1(A,B,C))\n",
    "print(\"Vector triple product of (axb) x c) : \",end = '')\n",
    "print(vectortripleproduct2(A,B,C))"
   ]
  },
  {
   "cell_type": "code",
   "execution_count": 22,
   "metadata": {},
   "outputs": [
    {
     "name": "stdout",
     "output_type": "stream",
     "text": [
      "Enter vector A: 1 2\n",
      "Enter vector B: 3 4\n",
      "The area of parallelogram is : 2.0\n"
     ]
    }
   ],
   "source": [
    "#Area of parallelogram using vectors\n",
    "def areaOfParallelogram(A,B):\n",
    "    if(len(A) == 3):\n",
    "        cross_p3 = []\n",
    "        x = crossProduct3(A,B,cross_p3)\n",
    "        print(\"The area of parallelogram is : \",end = '')\n",
    "        C = 0\n",
    "        for i in range(len(x)):\n",
    "            C = C + (x[i] * x[i])\n",
    "        print(math.sqrt(C))\n",
    "    elif (len(A) == 2):\n",
    "        cross_p2 = []\n",
    "        x = crossProduct2(A,B,cross_p2)\n",
    "        print(\"The area of parallelogram is : \",end = '')\n",
    "        C = 0\n",
    "        for i in range(len(x)):\n",
    "            C = C + (x[i] * x[i])\n",
    "        print(math.sqrt(C))\n",
    "    else:\n",
    "        print(\"incompatible dimensions for cross product (dimension must be 2 or 3)\")\n",
    "\n",
    "        \n",
    "A = input(\"Enter vector A: \").split()\n",
    "B = input(\"Enter vector B: \").split()\n",
    "x = areaOfParallelogram(A,B)\n",
    "\n",
    "#Running time is linear O(len(A))"
   ]
  },
  {
   "cell_type": "code",
   "execution_count": 17,
   "metadata": {},
   "outputs": [
    {
     "name": "stdout",
     "output_type": "stream",
     "text": [
      "Enter edge A: 2 -3 4\n",
      "Enter edge B: 1 2 -1\n",
      "Enter edge C: 3 -1 2\n",
      "The area of parallelepiped is : 7.0\n"
     ]
    }
   ],
   "source": [
    "#Volume of parallelepiped (6 parallelograms)\n",
    "#a.(bxc)\n",
    "\n",
    "def volumeofparallelepiped(A,B,edgeC):\n",
    "    if(len(B) == 3):\n",
    "        cross_p3 = []\n",
    "        x = crossProduct3(B,edgeC,cross_p3)\n",
    "        A[1] = -1 * float(A[1])\n",
    "        answer = dotcomponents(A,x)\n",
    "        print(\"The area of parallelepiped is : \",end = '')\n",
    "        print(abs(answer))\n",
    "    elif (len(B) == 2):\n",
    "        cross_p2 = []\n",
    "        x = crossProduct2(B,edgeC,cross_p2)\n",
    "        A[1] = -1 * float(A[1])\n",
    "        answer = dotcomponents(A,x)\n",
    "        print(\"The area of parallelepiped is : \",end = '')\n",
    "        print(abs(answer))\n",
    "    else:\n",
    "        print(\"incompatible dimensions for cross product (dimension must be 2 or 3)\")\n",
    "        \n",
    "\n",
    "\n",
    "        \n",
    "A = input(\"Enter edge A: \").split()\n",
    "B = input(\"Enter edge B: \").split()\n",
    "edgeC = input(\"Enter edge C: \").split()\n",
    "volumeofparallelepiped(A,B,edgeC)\n",
    "\n",
    "\n",
    "\n",
    "#linear time"
   ]
  },
  {
   "cell_type": "code",
   "execution_count": null,
   "metadata": {},
   "outputs": [],
   "source": []
  },
  {
   "cell_type": "code",
   "execution_count": 29,
   "metadata": {},
   "outputs": [],
   "source": []
  },
  {
   "cell_type": "code",
   "execution_count": null,
   "metadata": {},
   "outputs": [],
   "source": []
  },
  {
   "cell_type": "code",
   "execution_count": null,
   "metadata": {},
   "outputs": [],
   "source": []
  }
 ],
 "metadata": {
  "kernelspec": {
   "display_name": "Python 3",
   "language": "python",
   "name": "python3"
  },
  "language_info": {
   "codemirror_mode": {
    "name": "ipython",
    "version": 3
   },
   "file_extension": ".py",
   "mimetype": "text/x-python",
   "name": "python",
   "nbconvert_exporter": "python",
   "pygments_lexer": "ipython3",
   "version": "3.7.1"
  }
 },
 "nbformat": 4,
 "nbformat_minor": 2
}
