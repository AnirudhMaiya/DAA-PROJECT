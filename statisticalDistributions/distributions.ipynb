{
 "cells": [
  {
   "cell_type": "code",
   "execution_count": 4,
   "metadata": {},
   "outputs": [
    {
     "name": "stdout",
     "output_type": "stream",
     "text": [
      "Enter the number of trials n : 4\n",
      "Enter the probability of success : 0.166666667\n",
      "P(X = 0) = 0.4822530856\n",
      "P(X = 1) = 0.3858024694\n",
      "P(X = 2) = 0.1157407411\n",
      "P(X = 3) = 0.0154320989\n",
      "P(X = 4) = 0.0007716049\n"
     ]
    }
   ],
   "source": [
    "import math\n",
    "def factorial(n):\n",
    "    if(n == 1 or n == 0):\n",
    "        return 1\n",
    "    else:\n",
    "        return n * factorial(n-1)\n",
    "    \n",
    "def fastpower(x,y):\n",
    "    if(y == 0):\n",
    "        return 1\n",
    "    power  = fastpower(x,math.floor(y/2))\n",
    "    power = power * power\n",
    "    if(y%2 == 1):\n",
    "        power = power * x\n",
    "    return power\n",
    "        \n",
    "n = int(input(\"Enter the number of trials n : \"))\n",
    "p = float(input(\"Enter the probability of success : \"))\n",
    "q = 1-p\n",
    "probabilities= {}\n",
    "factn = factorial(n)\n",
    "for x in range(0,n+1):\n",
    "    factx = factorial(x)\n",
    "    factnx = factorial(n-x)\n",
    "    i = (factn/(factx * factnx))*(fastpower(p,x)) * (fastpower(q,(n-x)))\n",
    "    i  = f'{i:.10f}'\n",
    "    probabilities[x] = i\n",
    "for i in range(n+1):\n",
    "    print('P(X = ',end = '')\n",
    "    print(i,end = '')\n",
    "    print(') = ',end = '')\n",
    "    print(probabilities[i])"
   ]
  },
  {
   "cell_type": "code",
   "execution_count": 10,
   "metadata": {},
   "outputs": [
    {
     "name": "stdout",
     "output_type": "stream",
     "text": [
      "Enter actual number of successes X : 3\n",
      "Enter average number of successes mu : 2\n",
      "The probability P(X=3) = 0.1804470443154836\n"
     ]
    }
   ],
   "source": [
    "def poisson(X,mu):\n",
    "    p = (math.pow(math.e,-1 * mu) * (math.pow(mu,X)))/factorial(X)\n",
    "    return p\n",
    "X = int(input(\"Enter actual number of successes X : \"))\n",
    "mu = float(input(\"Enter average number of successes mu : \"))\n",
    "print(\"The probability P(X=\",end = '')\n",
    "print(X,end = '')\n",
    "print(\") = \",end = '')\n",
    "print(poisson(X,mu))\n"
   ]
  }
 ],
 "metadata": {
  "kernelspec": {
   "display_name": "Python 3",
   "language": "python",
   "name": "python3"
  },
  "language_info": {
   "codemirror_mode": {
    "name": "ipython",
    "version": 3
   },
   "file_extension": ".py",
   "mimetype": "text/x-python",
   "name": "python",
   "nbconvert_exporter": "python",
   "pygments_lexer": "ipython3",
   "version": "3.7.1"
  }
 },
 "nbformat": 4,
 "nbformat_minor": 2
}
